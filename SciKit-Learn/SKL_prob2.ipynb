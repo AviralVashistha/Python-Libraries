{
 "cells": [
  {
   "cell_type": "markdown",
   "id": "fe3a5aa8-4ee1-4840-8289-e898d481cb6d",
   "metadata": {},
   "source": [
    "# Problem Statement 2"
   ]
  },
  {
   "cell_type": "markdown",
   "id": "8275c6f6-a2ae-48db-802a-ca5dfaa15003",
   "metadata": {},
   "source": [
    "**In an e-commerce comapny, the managementwants to predict whether a customer will purchase a high-value product based on their age, time spent on the\n",
    "website, and whether they have added items to their cart. The goal is to optimize marketing strateges by targetin potenstial customers more effectively,\n",
    "thereby increasing sales and revenue.**"
   ]
  },
  {
   "cell_type": "code",
   "execution_count": 4,
   "id": "859309ca-e490-4cd4-b115-68f05b4ab81a",
   "metadata": {},
   "outputs": [
    {
     "name": "stdout",
     "output_type": "stream",
     "text": [
      "Model Accuracy:1.0\n"
     ]
    },
    {
     "name": "stdin",
     "output_type": "stream",
     "text": [
      "Enter Customer Age:  40\n",
      "Enter Time Spent n website:  10\n",
      "Enter 1 if added to cart, else enter 0:  1\n"
     ]
    },
    {
     "name": "stdout",
     "output_type": "stream",
     "text": [
      "The customer is unlikely to purchase.\n"
     ]
    }
   ],
   "source": [
    "import numpy as np \n",
    "from sklearn.model_selection import train_test_split\n",
    "from sklearn.linear_model import LogisticRegression\n",
    "\n",
    "X=np.array([[25,30,0],[30,40,1],[20,35,0],[35,45,1]])\n",
    "y=np.array([0,1,0,1])\n",
    "X_train,X_test,y_train,y_test=train_test_split(X,y,test_size=0.2,random_state=42)\n",
    "model=LogisticRegression()\n",
    "model.fit(X_train,y_train)\n",
    "accuracy=model.score(X_test,y_test)\n",
    "print(f\"Model Accuracy:{accuracy}\")\n",
    "user_age=float(input(\"Enter Customer Age: \"))\n",
    "user_time_spent=float(input(\"Enter Time Spent n website: \"))\n",
    "user_added_to_cart=int(input(\"Enter 1 if added to cart, else enter 0: \"))\n",
    "user_data=np.array([[user_age,user_time_spent,user_added_to_cart]])\n",
    "prediction=model.predict(user_data)\n",
    "if (prediction[0]==1):\n",
    "    print(\"The customer is likely to purchase,\")\n",
    "else :\n",
    "    print(\"The customer is unlikely to purchase.\")"
   ]
  },
  {
   "cell_type": "code",
   "execution_count": null,
   "id": "a03bea31-5a3b-404b-b21d-9386dd63ed90",
   "metadata": {},
   "outputs": [],
   "source": []
  }
 ],
 "metadata": {
  "kernelspec": {
   "display_name": "Python 3 (ipykernel)",
   "language": "python",
   "name": "python3"
  },
  "language_info": {
   "codemirror_mode": {
    "name": "ipython",
    "version": 3
   },
   "file_extension": ".py",
   "mimetype": "text/x-python",
   "name": "python",
   "nbconvert_exporter": "python",
   "pygments_lexer": "ipython3",
   "version": "3.12.4"
  }
 },
 "nbformat": 4,
 "nbformat_minor": 5
}
