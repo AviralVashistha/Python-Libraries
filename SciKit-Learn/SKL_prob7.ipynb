{
 "cells": [
  {
   "cell_type": "markdown",
   "id": "c0cdb23c-893f-44f2-b2fc-745b466f6729",
   "metadata": {},
   "source": [
    "# Problem Statement 7"
   ]
  },
  {
   "cell_type": "markdown",
   "id": "0a8d8d58-8295-4933-a9bc-828f9c378683",
   "metadata": {},
   "source": [
    "****"
   ]
  }
 ],
 "metadata": {
  "kernelspec": {
   "display_name": "Python 3 (ipykernel)",
   "language": "python",
   "name": "python3"
  },
  "language_info": {
   "codemirror_mode": {
    "name": "ipython",
    "version": 3
   },
   "file_extension": ".py",
   "mimetype": "text/x-python",
   "name": "python",
   "nbconvert_exporter": "python",
   "pygments_lexer": "ipython3",
   "version": "3.12.4"
  }
 },
 "nbformat": 4,
 "nbformat_minor": 5
}
