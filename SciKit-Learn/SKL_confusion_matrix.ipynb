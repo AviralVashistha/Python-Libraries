{
 "cells": [
  {
   "cell_type": "markdown",
   "id": "e47a6b7d-a855-4a55-bab6-e0887110c4a9",
   "metadata": {},
   "source": [
    "# Problem Statement"
   ]
  },
  {
   "cell_type": "markdown",
   "id": "5e7bd5af-226c-4329-b5cf-582e2609f0d0",
   "metadata": {},
   "source": [
    "**Implement skl confusion matrix on your data set and check type 1 and type 2 error.**"
   ]
  },
  {
   "cell_type": "code",
   "execution_count": 1,
   "id": "5d762387-3676-47c7-a472-57973ad1597e",
   "metadata": {},
   "outputs": [],
   "source": [
    "import numpy as np\n",
    "import pandas as pd\n",
    "import matplotlib.pyplot as plt\n",
    "import seaborn as sns\n",
    "from sklearn.model_selection import train_test_split\n",
    "from sklearn.ensemble import RandomForestClassifier\n",
    "from sklearn.metrics import accuracy_score, classification_report\n",
    "from sklearn.preprocessing import LabelEncoder\n",
    "from sklearn.metrics import confusion_matrix,classification_report"
   ]
  },
  {
   "cell_type": "code",
   "execution_count": 2,
   "id": "d36f3fa8-13a3-43e4-9d3f-5aef97e6e1d4",
   "metadata": {},
   "outputs": [
    {
     "name": "stdout",
     "output_type": "stream",
     "text": [
      "   Age Gender  EstimatedSalary  Purchased\n",
      "0   25      M            30000          0\n",
      "1   35      F            40000          0\n",
      "2   45      M            60000          1\n",
      "3   20      M            20000          0\n",
      "4   30      F            35000          1\n",
      "5   50      F            80000          1\n",
      "6   40      M            45000          0\n",
      "7   55      F            90000          1\n",
      "8   60      M           100000          1\n",
      "9   35      F            50000          0\n",
      "   Age  Gender  EstimatedSalary  Purchased\n",
      "0   25       1            30000          0\n",
      "1   35       0            40000          0\n",
      "2   45       1            60000          1\n",
      "3   20       1            20000          0\n",
      "4   30       0            35000          1\n",
      "5   50       0            80000          1\n",
      "6   40       1            45000          0\n",
      "7   55       0            90000          1\n",
      "8   60       1           100000          1\n",
      "9   35       0            50000          0\n",
      "The accuracy of the model is: 0.5\n"
     ]
    }
   ],
   "source": [
    "data = {'Age':[25,35,45,20,30,50,40,55,60,35],\n",
    "        'Gender':['M','F','M','M','F','F','M','F','M','F'],\n",
    "        'EstimatedSalary':[30000,40000,60000,20000,35000,80000,45000,90000,100000,50000],\n",
    "        'Purchased':[0,0,1,0,1,1,0,1,1,0]}\n",
    "\n",
    "df=pd.DataFrame(data)\n",
    "print(df)\n",
    "\n",
    "label_encoder=LabelEncoder()\n",
    "df['Gender']=label_encoder.fit_transform(df['Gender'])\n",
    "print (df)\n",
    "\n",
    "X=df.drop('Purchased',axis=1)\n",
    "y=df['Purchased']\n",
    "\n",
    "X_train,X_test,y_train,y_test=train_test_split(X,y,test_size=0.2,random_state=42)\n",
    "\n",
    "rf_classifier=RandomForestClassifier(n_estimators=100,random_state=42)\n",
    "rf_classifier.fit(X_train,y_train)\n",
    "\n",
    "y_pred=rf_classifier.predict(X_test)\n",
    "accuracy=accuracy_score(y_test,y_pred)\n",
    "print(f\"The accuracy of the model is: {accuracy}\")"
   ]
  },
  {
   "cell_type": "code",
   "execution_count": 3,
   "id": "f541f94f-956c-4b25-9895-87763a8f6fd2",
   "metadata": {},
   "outputs": [
    {
     "name": "stdout",
     "output_type": "stream",
     "text": [
      "    Age Gender  EstimatedSalary  Purchased\n",
      "0    20      F            35588          0\n",
      "1    23      F            58395          0\n",
      "2    23      M            80155          1\n",
      "3    59      M            58214          0\n",
      "4    29      M            20469          0\n",
      "..  ...    ...              ...        ...\n",
      "95   23      F            99835          1\n",
      "96   54      F            36363          0\n",
      "97   33      F            44785          1\n",
      "98   59      F            75913          0\n",
      "99   41      M            83418          1\n",
      "\n",
      "[100 rows x 4 columns]\n"
     ]
    }
   ],
   "source": [
    "np.random.seed(0)\n",
    "\n",
    "n_samples = 100\n",
    "ages = np.random.randint(20, 60, n_samples)\n",
    "genders = np.random.choice(['M', 'F'], n_samples)\n",
    "salaries = np.random.randint(20000, 100000, n_samples)\n",
    "purchased = np.random.choice([0, 1], n_samples)\n",
    "\n",
    "\n",
    "data = {\n",
    "    'Age': ages,\n",
    "    'Gender': genders,\n",
    "    'EstimatedSalary': salaries,\n",
    "    'Purchased': purchased\n",
    "}\n",
    "\n",
    "df1 = pd.DataFrame(data)\n",
    "\n",
    "print(df1)"
   ]
  },
  {
   "cell_type": "code",
   "execution_count": 4,
   "id": "68023ba8-72d2-467d-bb66-741efbe72849",
   "metadata": {},
   "outputs": [
    {
     "name": "stdout",
     "output_type": "stream",
     "text": [
      "    Age  Gender  EstimatedSalary  Purchased\n",
      "0    20       0            35588          0\n",
      "1    23       0            58395          0\n",
      "2    23       1            80155          1\n",
      "3    59       1            58214          0\n",
      "4    29       1            20469          0\n",
      "..  ...     ...              ...        ...\n",
      "95   23       0            99835          1\n",
      "96   54       0            36363          0\n",
      "97   33       0            44785          1\n",
      "98   59       0            75913          0\n",
      "99   41       1            83418          1\n",
      "\n",
      "[100 rows x 4 columns]\n"
     ]
    }
   ],
   "source": [
    "df1['Gender']=label_encoder.fit_transform(df1['Gender'])\n",
    "print (df1)"
   ]
  },
  {
   "cell_type": "code",
   "execution_count": 5,
   "id": "3cb44fb2-c718-4c9e-85eb-30f18964c824",
   "metadata": {},
   "outputs": [
    {
     "name": "stdout",
     "output_type": "stream",
     "text": [
      "0     0\n",
      "1     0\n",
      "2     1\n",
      "3     0\n",
      "4     0\n",
      "     ..\n",
      "95    1\n",
      "96    0\n",
      "97    1\n",
      "98    0\n",
      "99    1\n",
      "Name: Purchased, Length: 100, dtype: int32\n",
      "[0 0 1 0 0 0 0 0 0 1 1 1 0 0 1 1 1 0 1 0 1 0 1 1 1 0 1 0 0 1 0 1 0 0 1 0 0\n",
      " 0 0 0 0 0 0 0 1 0 1 1 0 1 1 1 0 0 1 1 1 1 0 1 0 1 0 0 0 0 1 1 1 1 1 0 1 0\n",
      " 1 0 1 0 1 1 0 0 0 1 1 1 0 0 1 0 0 1 0 0 0 1 0 1 0 1]\n"
     ]
    }
   ],
   "source": [
    "actual=df1['Purchased']\n",
    "print(actual)\n",
    "actual_data=np.array(actual)\n",
    "print (actual_data)"
   ]
  },
  {
   "cell_type": "code",
   "execution_count": 6,
   "id": "5e229600-eb26-41d7-b51c-a2fc508b4cce",
   "metadata": {},
   "outputs": [
    {
     "name": "stdout",
     "output_type": "stream",
     "text": [
      "    Age  Gender  EstimatedSalary\n",
      "0    20       0            35588\n",
      "1    23       0            58395\n",
      "2    23       1            80155\n",
      "3    59       1            58214\n",
      "4    29       1            20469\n",
      "..  ...     ...              ...\n",
      "95   23       0            99835\n",
      "96   54       0            36363\n",
      "97   33       0            44785\n",
      "98   59       0            75913\n",
      "99   41       1            83418\n",
      "\n",
      "[100 rows x 3 columns]\n"
     ]
    }
   ],
   "source": [
    "user_data=df1.drop('Purchased',axis=1)\n",
    "print(user_data)"
   ]
  },
  {
   "cell_type": "code",
   "execution_count": 7,
   "id": "a79b7e34-4d90-4092-8b4a-17af201f2e57",
   "metadata": {},
   "outputs": [
    {
     "name": "stdout",
     "output_type": "stream",
     "text": [
      "[1 0 0 1 0 0 1 1 1 1 0 0 0 0 1 1 1 1 0 1 1 0 1 1 0 0 1 0 0 0 1 1 1 0 0 0 1\n",
      " 1 0 1 1 1 1 0 0 1 1 1 0 1 0 0 1 0 0 0 1 1 1 1 1 1 1 0 1 0 0 1 0 0 1 1 0 0\n",
      " 0 1 1 1 0 0 1 1 0 0 0 0 1 0 1 0 1 0 1 1 1 1 1 0 1 1]\n"
     ]
    }
   ],
   "source": [
    "prediction=rf_classifier.predict(user_data)\n",
    "predicted_data=prediction\n",
    "print(predicted_data)"
   ]
  },
  {
   "cell_type": "code",
   "execution_count": 8,
   "id": "9d1096f4-909e-45dc-ab15-37ac103b4660",
   "metadata": {},
   "outputs": [
    {
     "data": {
      "image/png": "[encoded data removed]",
      "text/plain": [
       "<Figure size 640x480 with 2 Axes>"
      ]
     },
     "metadata": {},
     "output_type": "display_data"
    }
   ],
   "source": [
    "cm = confusion_matrix(actual_data,predicted_data)\n",
    "sns.heatmap(cm, annot=True, fmt='g', xticklabels=['Purchased','Not Purchased'], yticklabels=['Purchased','Not Purchased'])\n",
    "plt.xlabel('Prediction',fontsize=13)\n",
    "plt.ylabel('Actual',fontsize=13)\n",
    "plt.title('Confusion Matrix',fontsize=17)\n",
    "plt.show()"
   ]
  },
  {
   "cell_type": "code",
   "execution_count": 1,
   "id": "c4820b6d-ba4a-40df-9228-0b524cdfc2cd",
   "metadata": {},
   "outputs": [
    {
     "name": "stdout",
     "output_type": "stream",
     "text": [
      "Accuracy is: 0.43\n",
      "Precision is: 0.4666666666666667\n",
      "Recall is: 0.3888888888888889\n",
      "F1_Score is: 0.42424242424242425\n",
      "Specificity is: 0.4782608695652174\n",
      "Type1_Error is: 0.5217391304347826\n",
      "Type2_Error is: 0.6111111111111112\n"
     ]
    }
   ],
   "source": [
    "TP=21\n",
    "FP=24\n",
    "FN=33\n",
    "TN=22\n",
    "\n",
    "Accuracy=(TP+TN)/(TP+TN+FP+FN)\n",
    "Precision=TP/(TP+FP)\n",
    "Recall=TP/(TP+FN)\n",
    "F1_Score=(2*Precision*Recall)/(Precision+Recall)\n",
    "Specificity=TN/(TN+FP)\n",
    "Type1_Error=FP/(TN+FP)\n",
    "Type2_Error=FN/(TP+FN)\n",
    "\n",
    "print(f\"Accuracy is: {Accuracy}\")\n",
    "print(f\"Precision is: {Precision}\")\n",
    "print(f\"Recall is: {Recall}\")\n",
    "print(f\"F1_Score is: {F1_Score}\")\n",
    "print(f\"Specificity is: {Specificity}\")\n",
    "print(f\"Type1_Error is: {Type1_Error}\")\n",
    "print(f\"Type2_Error is: {Type2_Error}\")"
   ]
  },
  {
   "cell_type": "code",
   "execution_count": 10,
   "id": "8fb4fe36-5ca4-43b6-9207-a6255883d956",
   "metadata": {},
   "outputs": [
    {
     "name": "stdout",
     "output_type": "stream",
     "text": [
      "              precision    recall  f1-score   support\n",
      "\n",
      "           0       0.47      0.39      0.42        54\n",
      "           1       0.40      0.48      0.44        46\n",
      "\n",
      "    accuracy                           0.43       100\n",
      "   macro avg       0.43      0.43      0.43       100\n",
      "weighted avg       0.44      0.43      0.43       100\n",
      "\n"
     ]
    }
   ],
   "source": [
    "report =classification_report(actual_data,predicted_data)\n",
    "print(report)"
   ]
  },
  {
   "cell_type": "code",
   "execution_count": null,
   "id": "da5a63ca-0691-4f23-b33d-090012f55620",
   "metadata": {},
   "outputs": [],
   "source": []
  }
 ],
 "metadata": {
  "kernelspec": {
   "display_name": "Python 3 (ipykernel)",
   "language": "python",
   "name": "python3"
  },
  "language_info": {
   "codemirror_mode": {
    "name": "ipython",
    "version": 3
   },
   "file_extension": ".py",
   "mimetype": "text/x-python",
   "name": "python",
   "nbconvert_exporter": "python",
   "pygments_lexer": "ipython3",
   "version": "3.12.4"
  }
 },
 "nbformat": 4,
 "nbformat_minor": 5
}
