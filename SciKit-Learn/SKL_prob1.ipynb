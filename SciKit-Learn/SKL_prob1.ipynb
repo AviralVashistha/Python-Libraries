{
 "cells": [
  {
   "cell_type": "markdown",
   "id": "a6cbdf41-bfbe-4e4c-834e-38152dd4ae93",
   "metadata": {},
   "source": [
    "# Problem Statement 1"
   ]
  },
  {
   "cell_type": "markdown",
   "id": "22aaceff-8bd6-47ce-8a85-1f433a95c4ab",
   "metadata": {},
   "source": [
    "**Predict a student's final exam score based on the number of hours they study.**"
   ]
  },
  {
   "cell_type": "code",
   "execution_count": 1,
   "id": "43b3b063-301c-4905-946e-790804cfe3c1",
   "metadata": {},
   "outputs": [
    {
     "name": "stdin",
     "output_type": "stream",
     "text": [
      "Enter the number of hours you study 7\n"
     ]
    },
    {
     "name": "stdout",
     "output_type": "stream",
     "text": [
      "Predicted Exam Score: 83.33\n"
     ]
    },
    {
     "name": "stderr",
     "output_type": "stream",
     "text": [
      "C:\\Users\\Aviral\\AppData\\Local\\Programs\\Python\\Python312\\Lib\\site-packages\\sklearn\\base.py:493: UserWarning: X does not have valid feature names, but LinearRegression was fitted with feature names\n",
      "  warnings.warn(\n"
     ]
    }
   ],
   "source": [
    "import numpy as np\n",
    "import pandas as pd\n",
    "from sklearn.model_selection import train_test_split\n",
    "from sklearn.linear_model import LinearRegression\n",
    "\n",
    "data={'Hours_study':[2,3,4,5,6,7,8,9,10],'Exam_score':[50,60,70,75,80,85,90,92,95]}\n",
    "df=pd.DataFrame(data)\n",
    "df\n",
    "\n",
    "X=df[['Hours_study']]\n",
    "y=df[['Exam_score']]\n",
    "\n",
    "X_train, X_test, y_train, y_test=train_test_split(X,y,test_size=0.2,random_state=42)\n",
    "\n",
    "model = LinearRegression()\n",
    "\n",
    "model.fit(X_train,y_train)\n",
    "\n",
    "user_input=float(input(\"Enter the number of hours you study\"))\n",
    "\n",
    "predicted_score=model.predict([[user_input]])\n",
    "\n",
    "print (f\"Predicted Exam Score: {predicted_score[0,0]:.2f}\")\n",
    "\n"
   ]
  },
  {
   "cell_type": "code",
   "execution_count": null,
   "id": "9435b16c-6afd-4569-834d-ee56991a1b75",
   "metadata": {},
   "outputs": [],
   "source": []
  }
 ],
 "metadata": {
  "kernelspec": {
   "display_name": "Python 3 (ipykernel)",
   "language": "python",
   "name": "python3"
  },
  "language_info": {
   "codemirror_mode": {
    "name": "ipython",
    "version": 3
   },
   "file_extension": ".py",
   "mimetype": "text/x-python",
   "name": "python",
   "nbconvert_exporter": "python",
   "pygments_lexer": "ipython3",
   "version": "3.12.4"
  }
 },
 "nbformat": 4,
 "nbformat_minor": 5
}
