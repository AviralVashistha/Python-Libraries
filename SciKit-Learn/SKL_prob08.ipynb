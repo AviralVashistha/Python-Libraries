{
 "cells": [
  {
   "cell_type": "markdown",
   "id": "61efd754-1604-429d-8f33-269cac557a19",
   "metadata": {},
   "source": [
    "# Problem Statement 8"
   ]
  },
  {
   "cell_type": "markdown",
   "id": "285eae5c-9dd7-4602-96b6-681734f93b38",
   "metadata": {},
   "source": [
    "**Create a predictive model using Gradient Boosting to forecast housing prices based on various features such as square footage, number of bedrooms, number of bathrooms and location.**"
   ]
  },
  {
   "cell_type": "code",
   "execution_count": 1,
   "id": "d1bd54b8-5c54-4054-a1c8-7beca214c947",
   "metadata": {},
   "outputs": [
    {
     "name": "stdout",
     "output_type": "stream",
     "text": [
      "   SquareFootage  Bedrooms  Bathrooms Location   Price\n",
      "0           1500         3        2.0   Suburb  250000\n",
      "1           2000         4        2.5     City  300000\n",
      "2           1200         2        1.5    Rural  180000\n",
      "3           1800         3        2.0     City  280000\n",
      "4           1350         3        2.0   Suburb  220000\n",
      "400050468.2496885\n",
      "Enter the details for our house prediction: \n"
     ]
    },
    {
     "name": "stdin",
     "output_type": "stream",
     "text": [
      "Square Footage:  1500\n",
      "No. of Bedrooms:  2\n",
      "No. of Bathrooms:  2\n",
      "Location (Suburb/City/Rural) City\n"
     ]
    },
    {
     "name": "stdout",
     "output_type": "stream",
     "text": [
      "Predicted Price of the House is: 263571.37705903925\n"
     ]
    }
   ],
   "source": [
    "import numpy as np\n",
    "import pandas as pd\n",
    "from sklearn.model_selection import train_test_split\n",
    "from sklearn.ensemble import GradientBoostingRegressor\n",
    "from sklearn.metrics import mean_squared_error\n",
    "\n",
    "data={'SquareFootage':[1500,2000,1200,1800,1350],\n",
    "      'Bedrooms':[3,4,2,3,3],\n",
    "      'Bathrooms':[2,2.5,1.5,2,2],\n",
    "      'Location':['Suburb','City','Rural','City','Suburb'],\n",
    "      'Price':[250000,300000,180000,280000,220000]}\n",
    "df=pd.DataFrame(data)\n",
    "print(df)\n",
    "\n",
    "df=pd.get_dummies(df,columns=['Location'])\n",
    "df\n",
    "\n",
    "X=df.drop('Price',axis=1)\n",
    "y=df['Price']\n",
    "\n",
    "X_train,X_test,y_train,y_test=train_test_split(X,y,test_size=0.2,random_state=42)\n",
    "\n",
    "model=GradientBoostingRegressor()\n",
    "model.fit(X_train,y_train)\n",
    "\n",
    "y_pred=model.predict(X_test)\n",
    "\n",
    "mse=mean_squared_error(y_test,y_pred)\n",
    "print(mse)\n",
    "\n",
    "print(\"Enter the details for our house prediction: \")\n",
    "sq_footage=float(input(\"Square Footage: \"))\n",
    "bedrooms=int(input(\"No. of Bedrooms: \"))\n",
    "bathrooms=float(input(\"No. of Bathrooms: \"))\n",
    "location=input(\"Location (Suburb/City/Rural)\")\n",
    "input_location=[0,0,0]\n",
    "if location=='Suburb':\n",
    "    input_location[0]=1\n",
    "elif location=='City':\n",
    "    input_location[1]=1\n",
    "elif location=='Rural':\n",
    "    input_location[2]=1\n",
    "user_input=pd.DataFrame({'SquareFootage':[sq_footage],\n",
    "      'Bedrooms':[bedrooms],\n",
    "      'Bathrooms':[bathrooms],\n",
    "      'Location_City':[input_location[1]],\n",
    "      'Location_Rural':[input_location[2]],\n",
    "      'Location_Suburb':[input_location[0]]})\n",
    "\n",
    "predicted_price=model.predict(user_input)\n",
    "print(f\"Predicted Price of the House is: {predicted_price[0]}\")"
   ]
  }
 ],
 "metadata": {
  "kernelspec": {
   "display_name": "Python 3 (ipykernel)",
   "language": "python",
   "name": "python3"
  },
  "language_info": {
   "codemirror_mode": {
    "name": "ipython",
    "version": 3
   },
   "file_extension": ".py",
   "mimetype": "text/x-python",
   "name": "python",
   "nbconvert_exporter": "python",
   "pygments_lexer": "ipython3",
   "version": "3.12.4"
  }
 },
 "nbformat": 4,
 "nbformat_minor": 5
}
